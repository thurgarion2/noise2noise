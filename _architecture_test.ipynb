{
 "cells": [
  {
   "cell_type": "code",
   "execution_count": null,
   "id": "73300953-4e1b-4e92-bc26-79c82b99ae65",
   "metadata": {},
   "outputs": [],
   "source": []
  },
  {
   "cell_type": "code",
   "execution_count": null,
   "id": "985917fc-5415-4eae-9a5c-d4a14bd62d89",
   "metadata": {},
   "outputs": [],
   "source": []
  },
  {
   "cell_type": "code",
   "execution_count": null,
   "id": "a12306bf-d4e6-4220-ad99-9715f302432d",
   "metadata": {},
   "outputs": [
    {
     "name": "stdout",
     "output_type": "stream",
     "text": [
      "The autoreload extension is already loaded. To reload it, use:\n",
      "  %reload_ext autoreload\n"
     ]
    }
   ],
   "source": [
    "%load_ext autoreload\n",
    "%autoreload 2"
   ]
  },
  {
   "cell_type": "code",
   "execution_count": null,
   "id": "683d5360-68cf-479e-8c5f-17d916d5a1b0",
   "metadata": {},
   "outputs": [],
   "source": [
    "from noise2noise.training import *\n",
    "from noise2noise.architectures import *\n",
    "from noise2noise.helpers import *\n",
    "import torch\n",
    "import torch.nn as nn\n",
    "from torchvision import transforms\n",
    "from torch.utils.data import DataLoader, Dataset\n",
    "from torch.optim import Adam\n",
    "import torch.optim as optim\n",
    "\n",
    "device = torch.device(\"cuda:0\" if torch.cuda.is_available() else \"cpu\")"
   ]
  },
  {
   "cell_type": "code",
   "execution_count": null,
   "id": "bcbf6e10-5a53-43bd-b288-8dcefe7ae244",
   "metadata": {},
   "outputs": [],
   "source": [
    "training_img, _ = load_images()\n",
    "mean, std = to_float_image(training_img).mean(dim=(0,2,3)), to_float_image(training_img).std(dim=(0,2,3))\n",
    "\n",
    "\n",
    "to_float_and_normalize = transforms.Compose([ToFloatImage(), transforms.Normalize(mean =mean, std = std)])\n",
    "to_float = transforms.Compose([ToFloatImage()])\n",
    "\n",
    "\n",
    "train_loader = DataLoader(\n",
    "    Noise2NoiseDataset('./dataset/train_data.pkl', \n",
    "                       transform=to_float_and_normalize, \n",
    "                       target_transform=to_float),\n",
    "    batch_size = 128,\n",
    "    num_workers = 2,\n",
    "    shuffle = True,\n",
    "    pin_memory = torch.cuda.is_available()\n",
    ")\n",
    "\n",
    "validation = DataLoader(\n",
    "    Noise2NoiseDataset('./dataset/val_data.pkl', \n",
    "                       transform=to_float_and_normalize, \n",
    "                       target_transform=to_float,  \n",
    "                       nb_samples=500),\n",
    "    batch_size = 128,\n",
    "    num_workers = 2,\n",
    "    shuffle = True,\n",
    "    pin_memory = torch.cuda.is_available()\n",
    ")"
   ]
  },
  {
   "cell_type": "code",
   "execution_count": null,
   "id": "f51651ef-a59c-447e-8e57-469bc7ecd814",
   "metadata": {},
   "outputs": [],
   "source": [
    "model = ResNet()\n",
    "optim = Adam(model.parameters(), lr=3e-5)\n",
    "\n",
    "#to remove\n",
    "scheduler = torch.optim.lr_scheduler.OneCycleLR(optim, max_lr=2e-3, total_steps=2000)\n",
    "\n",
    "metric = psnr_metric()\n",
    "criterion = nn.MSELoss()\n",
    "\n",
    "\n",
    "\n",
    "\n",
    "train_loss, test_loss, resnet_psnr = train(model, \n",
    "                                           train_loader, \n",
    "                                           validation, \n",
    "                                           optim, \n",
    "                                           criterion, \n",
    "                                           metric, \n",
    "                                           gradient_steps=2000, \n",
    "                                           samples_steps=100,\n",
    "                                           lr_scheduler=scheduler,\n",
    "                                           lr_steps=1)"
   ]
  },
  {
   "cell_type": "code",
   "execution_count": null,
   "id": "ef7ecfee-b7ea-43f0-aa5b-6759eb2e6214",
   "metadata": {},
   "outputs": [],
   "source": [
    "plot_losses(train_losses, test_losses, resnet_psnr)"
   ]
  },
  {
   "cell_type": "code",
   "execution_count": null,
   "id": "f162fac3-c13d-4368-86e6-c04fcf2c2639",
   "metadata": {},
   "outputs": [],
   "source": [
    "show_results(model, validation, nb_cols=3, nb_rows=2)"
   ]
  },
  {
   "cell_type": "code",
   "execution_count": null,
   "id": "32607e34-f319-4a66-963f-52ddeabbd6a9",
   "metadata": {},
   "outputs": [],
   "source": [
    "show_worst(model, validation, nb_cols=3, nb_rows=2)"
   ]
  },
  {
   "cell_type": "code",
   "execution_count": null,
   "id": "8e029338-8fec-4d8a-b8dd-fff4368888ba",
   "metadata": {},
   "outputs": [],
   "source": [
    "plot_psnr_distribution(model, validation)"
   ]
  }
 ],
 "metadata": {
  "kernelspec": {
   "display_name": "Python 3 (ipykernel)",
   "language": "python",
   "name": "python3"
  }
 },
 "nbformat": 4,
 "nbformat_minor": 5
}
