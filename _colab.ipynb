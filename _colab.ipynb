{
 "cells": [
  {
   "cell_type": "code",
   "execution_count": null,
   "id": "4372abc6-ee5f-49dc-831f-604c13cbab65",
   "metadata": {},
   "outputs": [],
   "source": [
    "from noise2noise.training import *\n",
    "from noise2noise.unet import *\n",
    "import torch\n",
    "import torch.nn as nn\n",
    "from torchvision import transforms\n",
    "from torch.utils.data import DataLoader, Dataset"
   ]
  },
  {
   "cell_type": "code",
   "execution_count": null,
   "id": "7aad3a14-fccc-4b41-80e8-32b114ab1777",
   "metadata": {},
   "outputs": [],
   "source": [
    "%load_ext autoreload\n",
    "%autoreload 2"
   ]
  },
  {
   "cell_type": "code",
   "execution_count": null,
   "id": "5e7daae7-75f7-4db4-bcd5-3887537fbf12",
   "metadata": {},
   "outputs": [],
   "source": [
    "to_image = transforms.Compose(\n",
    "    [\n",
    "        ToFloatImage()\n",
    "    ]\n",
    ")"
   ]
  },
  {
   "cell_type": "code",
   "execution_count": null,
   "id": "9016bfac-aa3e-41b6-9e8e-2cd75c9d3e0c",
   "metadata": {},
   "outputs": [
    {
     "name": "stderr",
     "output_type": "stream",
     "text": [
      "  0%|                                                    | 0/15 [00:00<?, ?it/s]/home/erwan/miniconda3/envs/deep_learning_for_coder/lib/python3.9/site-packages/torch/nn/functional.py:693: UserWarning: Named tensors and all their associated APIs are an experimental feature and subject to change. Please do not use them for anything important until they are released as stable. (Triggered internally at  /pytorch/c10/core/TensorImpl.h:1156.)\n",
      "  return torch._C._nn.max_pool2d_with_indices(input, kernel_size, stride, padding, dilation, ceil_mode)\n",
      "100%|███████████████████████████████████████████| 15/15 [00:16<00:00,  1.13s/it]\n"
     ]
    }
   ],
   "source": [
    "from torch.optim import Adam\n",
    "\n",
    "unet = Unet()\n",
    "optim = Adam(unet.parameters(), lr=3e-3)\n",
    "criterion = nn.MSELoss()\n",
    "\n",
    "train_loader =  DataLoader(\n",
    "    Noise2NoiseDataset('./dataset/train_data.pkl', transform=to_image, target_transform=to_image ),\n",
    "    batch_size = 64,\n",
    "    num_workers = 4,\n",
    "    shuffle = True,\n",
    "    pin_memory = torch.cuda.is_available()\n",
    ")\n",
    "\n",
    "test_loader =  DataLoader(\n",
    "    Noise2NoiseDataset('./dataset/val_data.pkl', transform=to_image, target_transform=to_image ),\n",
    "    batch_size = 64,\n",
    "    num_workers = 4,\n",
    "    shuffle = True,\n",
    "    pin_memory = torch.cuda.is_available()\n",
    ")\n",
    "\n",
    "train_loss, test_loss = train(unet, train_loader, test_loader, optim, criterion, gradient_steps=15, samples_steps=10)"
   ]
  },
  {
   "cell_type": "code",
   "execution_count": null,
   "id": "2b4c6539-9599-48f4-8660-b99f17d4da35",
   "metadata": {},
   "outputs": [],
   "source": []
  }
 ],
 "metadata": {
  "kernelspec": {
   "display_name": "Python 3 (ipykernel)",
   "language": "python",
   "name": "python3"
  }
 },
 "nbformat": 4,
 "nbformat_minor": 5
}
