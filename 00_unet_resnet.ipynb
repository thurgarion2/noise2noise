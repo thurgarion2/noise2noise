{
 "cells": [
  {
   "cell_type": "code",
   "execution_count": null,
   "id": "162021c1-1e71-4859-b737-2754fa82c14e",
   "metadata": {},
   "outputs": [],
   "source": [
    "#default_exp unet_resnet\n",
    "#all_slow"
   ]
  },
  {
   "cell_type": "code",
   "execution_count": null,
   "id": "92ac85de-0ba8-40ab-9416-02952cc9a294",
   "metadata": {},
   "outputs": [],
   "source": [
    "#export\n",
    "import torch\n",
    "import torchvision\n",
    "import torch.nn as nn\n",
    "import torch.nn.functional as F\n",
    "from noise2noise.helpers import *"
   ]
  },
  {
   "cell_type": "markdown",
   "id": "d14ce71c-b9a4-4838-811a-1728f1b11620",
   "metadata": {},
   "source": [
    "# Unet resnet"
   ]
  },
  {
   "cell_type": "code",
   "execution_count": null,
   "id": "fadbe401-c9dd-407f-a548-2822ec80f80f",
   "metadata": {},
   "outputs": [],
   "source": [
    "#export\n",
    "#maybe implement basic block\n",
    "\n",
    "class ResNetBlock(nn.Module):\n",
    "    \n",
    "    def __init__(self, channels):\n",
    "        super().__init__()\n",
    "        self.layers = nn.Sequential(\n",
    "            nn.Conv2d(channels, channels, kernel_size=(3, 3), padding=(1, 1), bias=False),\n",
    "            nn.BatchNorm2d(channels),\n",
    "            nn.ReLU(inplace=True),\n",
    "            nn.Conv2d(channels, channels, kernel_size=(3, 3), padding=(1, 1), bias=False),\n",
    "            nn.BatchNorm2d(channels))\n",
    "    \n",
    "    def forward(self, x):\n",
    "        return F.relu(self.layers(x)+x)\n",
    "    \n",
    "class ResizeBlock(nn.Module):\n",
    "    \n",
    "    def __init__(self, in_channels, out_channels, size):\n",
    "        super().__init__()\n",
    "        self.resize_channel = nn.Conv2d(in_channels, out_channels, kernel_size=(3, 3), padding=(1, 1), bias=False)\n",
    "        self.size = size\n",
    "    \n",
    "    def forward(self, x):\n",
    "        return F.interpolate(self.resize_channel(x), size=self.size)\n",
    "    "
   ]
  },
  {
   "cell_type": "code",
   "execution_count": null,
   "id": "3f53f9ed-2b59-438a-978d-ab9b7035c4f7",
   "metadata": {},
   "outputs": [
    {
     "data": {
      "text/plain": [
       "torch.Size([2, 3, 32, 32])"
      ]
     },
     "execution_count": null,
     "metadata": {},
     "output_type": "execute_result"
    }
   ],
   "source": [
    "noisy_imgs_1 , noisy_imgs_2 = load_images()\n",
    "img = to_float_image(noisy_imgs_1[:2])\n",
    "img.shape"
   ]
  },
  {
   "cell_type": "code",
   "execution_count": null,
   "id": "e06359f8-6ce3-4905-9dda-ee22f808e011",
   "metadata": {},
   "outputs": [
    {
     "data": {
      "text/plain": [
       "torch.Size([2, 32, 40, 40])"
      ]
     },
     "execution_count": null,
     "metadata": {},
     "output_type": "execute_result"
    }
   ],
   "source": [
    "block = ResizeBlock(3,32,(40,40))\n",
    "block(img).shape"
   ]
  },
  {
   "cell_type": "code",
   "execution_count": null,
   "id": "3c48d3b8-0318-41f3-aca1-2d90d61581e1",
   "metadata": {},
   "outputs": [
    {
     "data": {
      "text/plain": [
       "torch.Size([1, 3, 32, 32])"
      ]
     },
     "execution_count": null,
     "metadata": {},
     "output_type": "execute_result"
    }
   ],
   "source": [
    "block = ResNetBlock(3)\n",
    "block(img).shape"
   ]
  },
  {
   "cell_type": "code",
   "execution_count": null,
   "id": "6e2976d9-2cf1-40b4-8622-558583d7cadc",
   "metadata": {},
   "outputs": [],
   "source": [
    "#export\n",
    "\n",
    "class ResNetUnet(nn.Module):\n",
    "    \n",
    "    def __init__(self):\n",
    "        super().__init__()\n",
    "        resnet = torchvision.models.resnet18(pretrained = True)\n",
    "        resnet_layers = list(resnet.children())\n",
    "        self.encoder = nn.ModuleList([nn.Sequential(*resnet_layers[:4]),*resnet_layers[4:-2]])\n",
    "        \n",
    "       \n",
    "        self.decoder_layers = []\n",
    "        x = torch.zeros((2, 3, 32, 32))\n",
    "        for l in self.encoder:\n",
    "            x_next = l(x)\n",
    "            in_channels = x_next.size(1)\n",
    "            out_channels = x.size(1)\n",
    "            size = (x.size(2),x.size(3))\n",
    "            \n",
    "            self.decoder_layers.append(nn.Sequential(ResNetBlock(in_channels),\n",
    "                                                     ResizeBlock(in_channels, out_channels, size)))    \n",
    "           \n",
    "            x = x_next\n",
    "        self.decoder_layers.reverse()\n",
    "        self.decoder = nn.ModuleList(self.decoder_layers)\n",
    "        self.middle = ResNetBlock(in_channels)\n",
    "        \n",
    "    def forward(self, x):\n",
    "        intermediary_x = []\n",
    "        for l in self.encoder:\n",
    "            x = l(x)\n",
    "            intermediary_x.append(x)\n",
    "        \n",
    "        \n",
    "        intermediary_x.reverse()\n",
    "        x = self.middle(x)\n",
    "        \n",
    "        for l, x_other in zip(self.decoder,intermediary_x):\n",
    "            x = l(x+x_other)\n",
    "       \n",
    "       \n",
    "        return x"
   ]
  },
  {
   "cell_type": "code",
   "execution_count": null,
   "id": "3dd4c6dd-a216-480e-9f46-cdaa32e9ef2e",
   "metadata": {},
   "outputs": [
    {
     "data": {
      "text/plain": [
       "torch.Size([2, 3, 32, 32])"
      ]
     },
     "execution_count": null,
     "metadata": {},
     "output_type": "execute_result"
    }
   ],
   "source": [
    "model = ResNetUnet()\n",
    "model(img).shape"
   ]
  }
 ],
 "metadata": {
  "kernelspec": {
   "display_name": "Python 3 (ipykernel)",
   "language": "python",
   "name": "python3"
  }
 },
 "nbformat": 4,
 "nbformat_minor": 5
}
