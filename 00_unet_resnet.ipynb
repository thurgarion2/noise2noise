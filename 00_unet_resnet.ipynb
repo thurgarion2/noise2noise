{
 "cells": [
  {
   "cell_type": "code",
   "execution_count": null,
   "id": "162021c1-1e71-4859-b737-2754fa82c14e",
   "metadata": {},
   "outputs": [],
   "source": [
    "#default_exp unet_resnet\n",
    "#all_slow"
   ]
  },
  {
   "cell_type": "code",
   "execution_count": null,
   "id": "kjbWI7yRoDqY",
   "metadata": {},
   "outputs": [
    {
     "name": "stdout",
     "output_type": "stream",
     "text": [
      "Mounted at /content/drive\n"
     ]
    }
   ],
   "source": [
    "#hide\n",
    "from google.colab import drive\n",
    "drive.mount('/content/drive')\n",
    "%cd drive/MyDrive/noise2noise"
   ]
  },
  {
   "cell_type": "code",
   "execution_count": null,
   "id": "92ac85de-0ba8-40ab-9416-02952cc9a294",
   "metadata": {},
   "outputs": [],
   "source": [
    "#export\n",
    "import torch\n",
    "import torchvision\n",
    "import torch.nn as nn\n",
    "import torch.nn.functional as F\n",
    "from noise2noise.helpers import *"
   ]
  },
  {
   "cell_type": "markdown",
   "id": "d14ce71c-b9a4-4838-811a-1728f1b11620",
   "metadata": {},
   "source": [
    "# Unet resnet"
   ]
  },
  {
   "cell_type": "code",
   "execution_count": null,
   "id": "fadbe401-c9dd-407f-a548-2822ec80f80f",
   "metadata": {},
   "outputs": [],
   "source": [
    "#export\n",
    "#maybe implement basic block\n",
    "\n",
    "class ResNetBlock(nn.Module):\n",
    "    \n",
    "    def __init__(self, channels):\n",
    "        super().__init__()\n",
    "        self.layers = nn.Sequential(\n",
    "            nn.Conv2d(channels, channels, kernel_size=(3, 3), padding=(1, 1), bias=False),\n",
    "            nn.BatchNorm2d(channels),\n",
    "            nn.ReLU(inplace=True),\n",
    "            nn.Conv2d(channels, channels, kernel_size=(3, 3), padding=(1, 1), bias=False),\n",
    "            nn.BatchNorm2d(channels))\n",
    "    \n",
    "    def forward(self, x):\n",
    "        return F.relu(self.layers(x)+x)\n",
    "    \n",
    "class ResizeBlock(nn.Module):\n",
    "    \n",
    "    def __init__(self, in_channels, out_channels, size):\n",
    "        super().__init__()\n",
    "        self.resize_channel = nn.Sequential(\n",
    "            nn.Conv2d(in_channels, out_channels, kernel_size=(3, 3), padding=(1, 1), bias=False),\n",
    "            nn.BatchNorm2d(out_channels))\n",
    "        self.size = size\n",
    "    \n",
    "    def forward(self, x):\n",
    "        return self.resize_channel(F.interpolate(x, size=self.size))\n",
    "\n",
    "class UpBlock(nn.Module):\n",
    "    \n",
    "    def __init__(self, in_channels, out_channels):\n",
    "        super().__init__()\n",
    "        self.resize_channel = nn.Sequential(\n",
    "            nn.Conv2d(in_channels, out_channels, kernel_size=(3, 3), padding=(1, 1), bias=False),\n",
    "            nn.BatchNorm2d(out_channels)) \n",
    "    \n",
    "       \n",
    "    \n",
    "    def forward(self, x):\n",
    "        return self.resize_channel(F.interpolate(x, scale_factor=2))\n",
    "\n",
    "class DownBlock(nn.Module):\n",
    "    \n",
    "    def __init__(self, in_channels, out_channels):\n",
    "        super().__init__()\n",
    "        self.resize_channel = nn.Sequential(\n",
    "            nn.Conv2d(in_channels, out_channels, kernel_size=(3, 3), padding=(1, 1), bias=False),\n",
    "            nn.BatchNorm2d(out_channels)) \n",
    "    \n",
    "    \n",
    "    def forward(self, x):\n",
    "        return self.resize_channel(F.max_pool2d(x, 2,stride=2))\n",
    "    "
   ]
  },
  {
   "cell_type": "code",
   "execution_count": null,
   "id": "3f53f9ed-2b59-438a-978d-ab9b7035c4f7",
   "metadata": {},
   "outputs": [
    {
     "data": {
      "text/plain": [
       "torch.Size([2, 3, 32, 32])"
      ]
     },
     "execution_count": null,
     "metadata": {},
     "output_type": "execute_result"
    }
   ],
   "source": [
    "noisy_imgs_1 , noisy_imgs_2 = load_images()\n",
    "img = to_float_image(noisy_imgs_1[:2])\n",
    "img.shape"
   ]
  },
  {
   "cell_type": "code",
   "execution_count": null,
   "id": "e06359f8-6ce3-4905-9dda-ee22f808e011",
   "metadata": {},
   "outputs": [
    {
     "data": {
      "text/plain": [
       "torch.Size([2, 32, 40, 40])"
      ]
     },
     "execution_count": null,
     "metadata": {},
     "output_type": "execute_result"
    }
   ],
   "source": [
    "block = ResizeBlock(3,32,(40,40))\n",
    "block(img).shape"
   ]
  },
  {
   "cell_type": "code",
   "execution_count": null,
   "id": "3c48d3b8-0318-41f3-aca1-2d90d61581e1",
   "metadata": {},
   "outputs": [
    {
     "data": {
      "text/plain": [
       "torch.Size([2, 3, 32, 32])"
      ]
     },
     "execution_count": null,
     "metadata": {},
     "output_type": "execute_result"
    }
   ],
   "source": [
    "block = ResNetBlock(3)\n",
    "block(img).shape"
   ]
  },
  {
   "cell_type": "code",
   "execution_count": null,
   "id": "6e2976d9-2cf1-40b4-8622-558583d7cadc",
   "metadata": {},
   "outputs": [],
   "source": [
    "#export\n",
    "\n",
    "class ResNetUnet(nn.Module):\n",
    "    \n",
    "    def __init__(self):\n",
    "        super().__init__()\n",
    "        resnet = torchvision.models.resnet18(pretrained = True)\n",
    "        resnet_layers = list(resnet.children())\n",
    "        self.encoder = nn.ModuleList([nn.Sequential(*resnet_layers[:4]),*resnet_layers[4:-2]])\n",
    "        \n",
    "       \n",
    "        self.decoder_layers = []\n",
    "        x = torch.zeros((2, 3, 32, 32))\n",
    "        for i, l in enumerate(self.encoder):\n",
    "            x_next = l(x)\n",
    "            in_channels = x_next.size(1)\n",
    "            out_channels = x.size(1)\n",
    "            size = (x.size(2),x.size(3))\n",
    "            \n",
    "            if i>0:\n",
    "              self.decoder_layers.append(nn.Sequential(ResNetBlock(in_channels),\n",
    "                                                     ResizeBlock(in_channels, out_channels, size)))    \n",
    "           \n",
    "            x = x_next\n",
    "        self.decoder_layers.reverse()\n",
    "        self.decoder = nn.ModuleList(self.decoder_layers)\n",
    "        self.middle = ResNetBlock(in_channels)\n",
    "        self.to_32 = nn.Sequential(ResizeBlock(64,32,(32,32)), ResNetBlock(32))\n",
    "        self.to_3 = nn.Conv2d((32+3), 3, kernel_size=3, padding=1)\n",
    "        \n",
    "    def forward(self, x):\n",
    "        img = x\n",
    "        intermediary_x = []\n",
    "        for l in self.encoder:\n",
    "            x = l(x)\n",
    "            intermediary_x.append(x)\n",
    "        \n",
    "        \n",
    "        intermediary_x.reverse()\n",
    "        x = self.middle(x)\n",
    "        \n",
    "        for l, x_other in zip(self.decoder,intermediary_x):\n",
    "            x = l(x+x_other)\n",
    "\n",
    "        x = self.to_32(x+intermediary_x[-1]) \n",
    "        return self.to_3(torch.cat([x,img],dim=1))"
   ]
  },
  {
   "cell_type": "code",
   "execution_count": null,
   "id": "3dd4c6dd-a216-480e-9f46-cdaa32e9ef2e",
   "metadata": {},
   "outputs": [
    {
     "data": {
      "text/plain": [
       "torch.Size([2, 3, 32, 32])"
      ]
     },
     "execution_count": null,
     "metadata": {},
     "output_type": "execute_result"
    }
   ],
   "source": [
    "model = ResNetUnet()\n",
    "model(img).shape"
   ]
  },
  {
   "cell_type": "code",
   "execution_count": null,
   "id": "okOBctPLrH0_",
   "metadata": {},
   "outputs": [],
   "source": [
    "#export\n",
    "\n",
    "class ResNetUnetNotPretrained(nn.Module):\n",
    "    def __init__(self):\n",
    "        super().__init__()\n",
    "        channels = [64, 128, 256]\n",
    "        self.encoder = nn.ModuleList([ResNetBlock(channel) for channel in channels])\n",
    "        self.down_blocks = nn.ModuleList([DownBlock(64,128), DownBlock(128,256), nn.Identity()])\n",
    "        \n",
    "        channels.reverse()\n",
    "        self.decoder = nn.ModuleList([ResNetBlock(channel) for channel in channels])\n",
    "        self.up_blocks = nn.ModuleList([nn.Identity(), UpBlock(256,128), UpBlock(128,64)])\n",
    "        \n",
    "        self.middle = ResNetBlock(256)\n",
    "        \n",
    "        self.to_64 = nn.Sequential(nn.Conv2d(3, 64, kernel_size=(3, 3), padding=(1, 1), bias=False), nn.BatchNorm2d(64))\n",
    "        self.to_3 = nn.Sequential(ResNetBlock(64+3), nn.Conv2d(64+3, 3, kernel_size=3, padding=1))\n",
    "        \n",
    "        self.pool = nn.MaxPool2d(2, stride=2)\n",
    "        self.up = nn.Upsample(scale_factor=2, mode='bilinear')\n",
    "        \n",
    "    \n",
    "    def forward(self, x):\n",
    "        intermediary = []\n",
    "        \n",
    "        img = x\n",
    "        x = self.to_64(x)\n",
    "        \n",
    "        for l, down in zip(self.encoder, self.down_blocks):\n",
    "            x = l(x)\n",
    "            intermediary.append(x)\n",
    "            x = down(x)\n",
    "            \n",
    "        \n",
    "        x = self.middle(x)\n",
    "        \n",
    "        intermediary.reverse()\n",
    "        for l, up, z in zip(self.decoder, self.up_blocks, intermediary):\n",
    "            x = up(x)\n",
    "            x = l(x+z)\n",
    "          \n",
    "            \n",
    "        return self.to_3(torch.cat([x,img],dim=1))\n",
    "\n",
    "    "
   ]
  },
  {
   "cell_type": "code",
   "execution_count": null,
   "id": "bafe3cbb-5ad2-46fb-be53-6ce119b98c49",
   "metadata": {},
   "outputs": [
    {
     "data": {
      "text/plain": [
       "torch.Size([2, 3, 32, 32])"
      ]
     },
     "execution_count": null,
     "metadata": {},
     "output_type": "execute_result"
    }
   ],
   "source": [
    "model = ResNetUnetNotPretrained()\n",
    "model(img).shape"
   ]
  },
  {
   "cell_type": "code",
   "execution_count": null,
   "id": "6c0a6e09-b25a-45a1-87d8-519cf97a5c5b",
   "metadata": {},
   "outputs": [],
   "source": [
    "#export\n",
    "class ResNet(nn.Module):\n",
    "    def __init__(self):\n",
    "        super().__init__()\n",
    "        self.to_64 = nn.Sequential(\n",
    "            nn.Conv2d(3, 64, kernel_size=(3, 3), padding=(1, 1), bias=False),\n",
    "            nn.BatchNorm2d(64),\n",
    "            ResNetBlock(64)\n",
    "        )\n",
    "        \n",
    "        self.to_128 = nn.Sequential(\n",
    "            nn.Conv2d(64, 128, kernel_size=(3, 3), padding=(1, 1), bias=False),\n",
    "            nn.BatchNorm2d(128),\n",
    "            ResNetBlock(128)\n",
    "        )\n",
    "        \n",
    "        self.resblocks = nn.Sequential(*[ResNetBlock(128) for loop in range(8)])\n",
    "        \n",
    "        self.to_3 = nn.Sequential(\n",
    "            nn.Conv2d(128, 3, kernel_size=(3, 3), padding=(1, 1), bias=False),\n",
    "            nn.BatchNorm2d(3),\n",
    "            ResNetBlock(3)\n",
    "        )\n",
    "        \n",
    "    def forward(self, x):\n",
    "        x = self.to_64(x)\n",
    "        x = self.to_128(x)\n",
    "        x = self.resblocks(x)\n",
    "        return self.to_3(x)"
   ]
  },
  {
   "cell_type": "code",
   "execution_count": null,
   "id": "4f91f961-132c-459b-a35d-7cb10fe22432",
   "metadata": {},
   "outputs": [
    {
     "data": {
      "text/plain": [
       "torch.Size([2, 3, 32, 32])"
      ]
     },
     "execution_count": null,
     "metadata": {},
     "output_type": "execute_result"
    }
   ],
   "source": [
    "model = ResNet()\n",
    "model(img).shape"
   ]
  }
 ],
 "metadata": {
  "kernelspec": {
   "display_name": "Python 3 (ipykernel)",
   "language": "python",
   "name": "python3"
  }
 },
 "nbformat": 4,
 "nbformat_minor": 5
}
