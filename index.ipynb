{
 "cells": [
  {
   "cell_type": "code",
   "execution_count": null,
   "metadata": {},
   "outputs": [],
   "source": [
    "#hide\n",
    "from noise2noise.helpers import *"
   ]
  },
  {
   "cell_type": "markdown",
   "metadata": {},
   "source": [
    "# noise2noise\n",
    "\n",
    "> EE-559 project 1, 2"
   ]
  },
  {
   "cell_type": "markdown",
   "metadata": {},
   "source": [
    "You can access the documentation [here](https://thurgarion2.github.io/noise2noise/) !!!"
   ]
  },
  {
   "cell_type": "markdown",
   "metadata": {},
   "source": [
    "## Set up the environnement"
   ]
  },
  {
   "cell_type": "markdown",
   "metadata": {},
   "source": [
    "To set up your environement, you need :\n",
    "- install [nbdev](https://nbdev.fast.ai/tutorial.html) and standard other libraries such as torch, jupyter ..\n",
    "- clone the repo\n",
    "- download the [dataset](https://drive.google.com/drive/u/2/folders/1CYsJ5gJkZWZAXJ1oQgUpGX7q5PxYEuNs) (you need to be connect to epfl account) and put it in `/dataset` folder.\n",
    "- run this notebook to be sure that all works"
   ]
  },
  {
   "cell_type": "markdown",
   "metadata": {},
   "source": [
    "## Run this to check that all is fine"
   ]
  },
  {
   "cell_type": "code",
   "execution_count": null,
   "metadata": {},
   "outputs": [
    {
     "data": {
      "image/png": "[encoded data removed]",
      "text/plain": [
       "<Figure size 432x288 with 1 Axes>"
      ]
     },
     "metadata": {
      "needs_background": "light"
     },
     "output_type": "display_data"
    }
   ],
   "source": [
    "noisy_imgs_1 , noisy_imgs_2 = load_images()\n",
    "show_img(noisy_imgs_1[0])"
   ]
  },
  {
   "cell_type": "markdown",
   "metadata": {},
   "source": [
    "## Create a module"
   ]
  },
  {
   "cell_type": "markdown",
   "metadata": {},
   "source": [
    "Nbdev is helpfull for 2 things. First, it fix some problems with the integration of notebook with github. Second, it allow to export notebooks as modules and generate documentation automatically.\n",
    "\n",
    "To export a notebook as a module, you should add `# default_exp module_name` at the top (ex: #default_exp helpers) and add `#export` in cell you want to exports (you can read 00_helpers to have an exmaple). You can also add `#hide` in cell that you don't want to be displayed in the documentation."
   ]
  },
  {
   "cell_type": "markdown",
   "metadata": {},
   "source": [
    "## Push code to github"
   ]
  },
  {
   "cell_type": "markdown",
   "metadata": {},
   "source": [
    "Before pushing code, you should run :\n",
    "- nbdev_build_lib \n",
    "- nbdev_build_docs\n",
    "- nbdev_test_nbs\n",
    "- git add -A; git commit -m'???'; git push\n",
    "\n",
    "in that order\n",
    "\n",
    "if pull and have conflicts run :\n",
    "- nbdev_fix_merge (you still have to resolve conflicts, but you can do it in notebooks)"
   ]
  },
  {
   "cell_type": "markdown",
   "metadata": {},
   "source": [
    "**do not hesitate to ask questions**"
   ]
  }
 ],
 "metadata": {
  "kernelspec": {
   "display_name": "Python 3 (ipykernel)",
   "language": "python",
   "name": "python3"
  }
 },
 "nbformat": 4,
 "nbformat_minor": 4
}
