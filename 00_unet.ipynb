{
 "cells": [
  {
   "cell_type": "code",
   "execution_count": null,
   "id": "1d2cdb46-4137-4337-833b-74d36e9fa8cd",
   "metadata": {},
   "outputs": [],
   "source": [
    "#default_exp unet"
   ]
  },
  {
   "cell_type": "code",
   "execution_count": null,
   "id": "8960faf9-ba44-4ecb-9896-a679365fc572",
   "metadata": {},
   "outputs": [
    {
     "name": "stdout",
     "output_type": "stream",
     "text": [
      "Converted 00_baseline.ipynb.\n",
      "Converted 00_helpers.ipynb.\n",
      "Converted 00_unet.ipynb.\n",
      "Converted index.ipynb.\n"
     ]
    }
   ],
   "source": [
    "#hide\n",
    "#run to export library\n",
    "from nbdev.export import notebook2script; notebook2script()"
   ]
  },
  {
   "cell_type": "code",
   "execution_count": null,
   "id": "342259dc-5e9f-45f3-9933-aeb7143b1f59",
   "metadata": {},
   "outputs": [],
   "source": [
    "#export\n",
    "import torch\n",
    "from noise2noise.helpers import *\n",
    "import torch.nn as nn"
   ]
  },
  {
   "cell_type": "markdown",
   "id": "d8acb41c-5f38-4968-9af5-968ecb61b255",
   "metadata": {},
   "source": [
    "# Unet\n",
    "\n",
    "> Unet models"
   ]
  },
  {
   "cell_type": "code",
   "execution_count": null,
   "id": "752b33f7-747c-4dcc-a996-e268c85180f0",
   "metadata": {},
   "outputs": [],
   "source": [
    "#export\n",
    "#hide\n",
    "class UnetBlockDown(nn.Module):\n",
    "    \n",
    "    def __init__(self, in_channel, out_channel):\n",
    "        super().__init__()\n",
    "        self.stack = nn.Sequential(\n",
    "            nn.Conv2d(in_channel, out_channel, 3, padding=1),\n",
    "            nn.ReLU(),\n",
    "            nn.Conv2d(out_channel, out_channel, 3, padding=1),\n",
    "            nn.ReLU(),\n",
    "        )\n",
    "    def forward(self, x):\n",
    "        return self.stack(x)\n",
    "    \n",
    "class UnetBlockUp(nn.Module):\n",
    "    \n",
    "    def __init__(self, in_channel, out_channel):\n",
    "        super().__init__()\n",
    "     \n",
    "        self.stack = nn.Sequential(\n",
    "            nn.ConvTranspose2d(in_channel, in_channel, 3, padding=1),\n",
    "            nn.ReLU(),\n",
    "            nn.ConvTranspose2d(in_channel, out_channel, 3, padding=1),\n",
    "            nn.ReLU()\n",
    "        )\n",
    "    def forward(self, x):\n",
    "        return self.stack(x)"
   ]
  },
  {
   "cell_type": "code",
   "execution_count": null,
   "id": "9f3c3413-e9fa-4c71-b8a3-1c39123c8045",
   "metadata": {},
   "outputs": [
    {
     "data": {
      "text/plain": [
       "torch.Size([1, 3, 32, 32])"
      ]
     },
     "execution_count": null,
     "metadata": {},
     "output_type": "execute_result"
    }
   ],
   "source": [
    "noisy_imgs_1 , noisy_imgs_2 = load_images()\n",
    "img = to_float_image(noisy_imgs_1[:1])\n",
    "img.shape"
   ]
  },
  {
   "cell_type": "code",
   "execution_count": null,
   "id": "5837b197-9694-4a1e-822b-d5ad22c9663e",
   "metadata": {},
   "outputs": [
    {
     "data": {
      "text/plain": [
       "(torch.Size([1, 64, 32, 32]), torch.Size([1, 3, 32, 32]))"
      ]
     },
     "execution_count": null,
     "metadata": {},
     "output_type": "execute_result"
    }
   ],
   "source": [
    "block_down = UnetBlockDown(3,64)\n",
    "block_up = UnetBlockUp(64,3)\n",
    "down = block_down(img)\n",
    "down.shape, block_up(down).shape"
   ]
  },
  {
   "cell_type": "code",
   "execution_count": null,
   "id": "d9dbd0da-7136-4b70-8065-794aa7a231f0",
   "metadata": {},
   "outputs": [],
   "source": [
    "#export\n",
    "#hide\n",
    "class Unet(nn.Module):\n",
    "    \n",
    "    def __init__(self):\n",
    "        super().__init__()\n",
    "        self.block_down_1 = UnetBlockDown(3,64)\n",
    "        self.block_down_2 = UnetBlockDown(64,128)\n",
    "        \n",
    "        self.pool = nn.MaxPool2d(2, stride=2, return_indices=True)\n",
    "        self.unpool = nn.MaxUnpool2d(2, stride=2)\n",
    "        \n",
    "        self.bottom = nn.Sequential(\n",
    "            nn.Conv2d(128, 128, 3, padding=1),\n",
    "            nn.ReLU(),\n",
    "            nn.Conv2d(128, 128, 3, padding=1),\n",
    "            nn.ReLU()\n",
    "        )\n",
    "        \n",
    "        self.block_up_1 = UnetBlockUp(128,64)\n",
    "        self.block_up_2 = UnetBlockUp(64,3)\n",
    "    \n",
    "    def forward(self, x):\n",
    "        x_1 = self.block_down_1(x)\n",
    "        x, indices_1 = self.pool(x_1)\n",
    "        \n",
    "        x_2 = self.block_down_2(x)\n",
    "        x, indices_2 = self.pool(x_2)\n",
    "        \n",
    "        x = self.bottom(x)\n",
    "        x = self.unpool(x,indices_2)+x_2\n",
    "        x = self.block_up_1(x)\n",
    "        \n",
    "        x = self.unpool(x,indices_1)+x_1\n",
    "        x = self.block_up_2(x)\n",
    "        \n",
    "        return x"
   ]
  },
  {
   "cell_type": "code",
   "execution_count": null,
   "id": "7abce84a-c41a-43cd-8bcd-9c5b62c6fdd4",
   "metadata": {},
   "outputs": [
    {
     "data": {
      "text/plain": [
       "torch.Size([1, 3, 32, 32])"
      ]
     },
     "execution_count": null,
     "metadata": {},
     "output_type": "execute_result"
    }
   ],
   "source": [
    "unet = Unet()\n",
    "unet(img).shape"
   ]
  },
  {
   "cell_type": "code",
   "execution_count": null,
   "id": "49b44552-2be2-418f-b58c-71f78b597029",
   "metadata": {},
   "outputs": [],
   "source": []
  }
 ],
 "metadata": {
  "kernelspec": {
   "display_name": "Python 3 (ipykernel)",
   "language": "python",
   "name": "python3"
  }
 },
 "nbformat": 4,
 "nbformat_minor": 5
}
