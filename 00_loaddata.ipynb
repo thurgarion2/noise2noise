{
 "cells": [
  {
   "cell_type": "code",
   "execution_count": null,
   "id": "a42b8b9e-fe10-4bc7-af98-1f0438ebbaf0",
   "metadata": {},
   "outputs": [],
   "source": [
    "#default_exp loaddata"
   ]
  },
  {
   "cell_type": "code",
   "execution_count": null,
   "id": "830c6337-b89c-4f89-ad8d-70e7a9aa1a6b",
   "metadata": {},
   "outputs": [],
   "source": [
    "#hide"
   ]
  },
  {
   "cell_type": "code",
   "execution_count": null,
   "id": "d2905b75-d300-44d0-83b8-909dc628ead5",
   "metadata": {},
   "outputs": [],
   "source": [
    "#export\n",
    "#hide\n",
    "import torch\n",
    "import matplotlib.pyplot as plt"
   ]
  },
  {
   "cell_type": "code",
   "execution_count": null,
   "id": "28ffe501-4955-4afe-a58f-eedd4223bddc",
   "metadata": {},
   "outputs": [
    {
     "name": "stdout",
     "output_type": "stream",
     "text": [
      "Converted 00_baseline.ipynb.\n",
      "Warning: Exporting to \"library.py\" but this module is not part of this build\n",
      "Converted 00_helpers.ipynb.\n",
      "Converted 00_loaddata.ipynb.\n",
      "Converted index.ipynb.\n"
     ]
    }
   ],
   "source": [
    "#hide\n",
    "#command to export library\n",
    "from nbdev.export import notebook2script; notebook2script()"
   ]
  },
  {
   "cell_type": "code",
   "execution_count": null,
   "id": "9cd8c7ae-deec-4029-86ff-a4b8e615bed3",
   "metadata": {},
   "outputs": [],
   "source": [
    "#export\n",
    "def load_train(path=\"./dataset/train_data.pkl\"):\n",
    "    return torch.load(path)"
   ]
  },
  {
   "cell_type": "code",
   "execution_count": null,
   "id": "e35eb385-4a01-4568-a575-b107ccf2a056",
   "metadata": {},
   "outputs": [
    {
     "data": {
      "text/plain": [
       "torch.Size([3, 32, 32])"
      ]
     },
     "execution_count": null,
     "metadata": {},
     "output_type": "execute_result"
    }
   ],
   "source": [
    "noisy_imgs_1 , noisy_imgs_2 = load_train()\n",
    "noisy_img_1 = noisy_imgs_1[0]\n",
    "noisy_img_1.shape"
   ]
  },
  {
   "cell_type": "code",
   "execution_count": null,
   "id": "b66cbe75-01fc-4f78-ae6a-6bb2d833c678",
   "metadata": {},
   "outputs": [
    {
     "data": {
      "text/plain": [
       "torch.Size([3, 32, 32])"
      ]
     },
     "execution_count": null,
     "metadata": {},
     "output_type": "execute_result"
    }
   ],
   "source": [
    "noisy_img_2 = noisy_imgs_2[0]\n",
    "noisy_img_2.shape"
   ]
  },
  {
   "cell_type": "code",
   "execution_count": null,
   "id": "ad54eeb1-0168-49c4-9a86-b5ec72e8502d",
   "metadata": {},
   "outputs": [],
   "source": []
  }
 ],
 "metadata": {
  "kernelspec": {
   "display_name": "Python 3 (ipykernel)",
   "language": "python",
   "name": "python3"
  }
 },
 "nbformat": 4,
 "nbformat_minor": 5
}
