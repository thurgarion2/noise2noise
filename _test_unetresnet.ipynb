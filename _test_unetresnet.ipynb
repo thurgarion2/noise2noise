{
 "cells": [
  {
   "cell_type": "code",
   "execution_count": null,
   "id": "64582deb-0c84-41e2-8ad6-e3bf32ff0fdc",
   "metadata": {},
   "outputs": [],
   "source": []
  },
  {
   "cell_type": "code",
   "execution_count": null,
   "id": "736c3153-8b48-4d2e-857d-2e5bdefb907d",
   "metadata": {},
   "outputs": [],
   "source": []
  },
  {
   "cell_type": "code",
   "execution_count": null,
   "id": "08f953f4-2981-4ed8-9968-c04a6ac4fbde",
   "metadata": {},
   "outputs": [],
   "source": [
    "from noise2noise.training import *\n",
    "from noise2noise.unet_resnet import *\n",
    "from noise2noise.helpers import *\n",
    "import torch\n",
    "import torch.nn as nn\n",
    "from torchvision import transforms\n",
    "from torch.utils.data import DataLoader, Dataset\n",
    "from torch.optim import Adam\n",
    "import torch.optim as optim\n",
    "\n",
    "\n",
    "device = torch.device(\"cuda:0\" if torch.cuda.is_available() else \"cpu\")\n",
    "\n",
    "training_img, training_target = load_images()\n",
    "mean, std = to_float_image(training_img).mean(dim=(0,2,3)), to_float_image(training_img).std(dim=(0,2,3))\n",
    "input_transform = transforms.Compose([ToFloatImage(), transforms.Normalize(mean =mean, std = std)])\n",
    "\n",
    "target_transform = transforms.Compose([ToFloatImage()])"
   ]
  },
  {
   "cell_type": "code",
   "execution_count": null,
   "id": "950b3966-4a4d-4da6-954d-0ba15ecd003f",
   "metadata": {},
   "outputs": [],
   "source": [
    "train_loader =  DataLoader(\n",
    "    Noise2NoiseDataset('./dataset/train_data.pkl', transform=input_transform, target_transform=target_transform),\n",
    "    batch_size = 64,\n",
    "    num_workers = 2,\n",
    "    shuffle = True,\n",
    "    pin_memory = torch.cuda.is_available()\n",
    ")\n",
    "\n",
    "test_loader =  DataLoader(\n",
    "    Noise2NoiseDataset('./dataset/val_data.pkl', transform=input_transform, target_transform=target_transform),\n",
    "    batch_size = 64,\n",
    "    num_workers = 2,\n",
    "    shuffle = True,\n",
    "    pin_memory = torch.cuda.is_available()\n",
    ")\n"
   ]
  },
  {
   "cell_type": "code",
   "execution_count": null,
   "id": "3d63a516-67f5-455d-aa58-fc9f0b123d79",
   "metadata": {},
   "outputs": [],
   "source": [
    "unet = ResNetUnet().to(device)\n",
    "metric = psnr_metric()\n",
    "criterion = nn.MSELoss()\n",
    "\n",
    "lr_finder(unet, train_loader, Adam, criterion, gradient_steps=1000, samples_steps=100)"
   ]
  },
  {
   "cell_type": "code",
   "execution_count": null,
   "id": "9a4e9682-3b66-4666-a12b-aa138958a018",
   "metadata": {},
   "outputs": [],
   "source": [
    "unet = ResNetUnet().to(device)\n",
    "optim = Adam(unet.parameters(), lr=1e-2)\n",
    "scheduler = torch.optim.lr_scheduler.ExponentialLR(optim, 0.975)\n",
    "\n",
    "metric = psnr_metric()\n",
    "criterion = nn.MSELoss()\n",
    "\n",
    "\n",
    "\n",
    "\n",
    "train_loss, test_loss, test_metric = train(unet, \n",
    "                                           train_loader, \n",
    "                                           test_loader, \n",
    "                                           optim, \n",
    "                                           criterion, \n",
    "                                           metric, \n",
    "                                           gradient_steps=2000, \n",
    "                                           samples_steps=100,\n",
    "                                           lr_scheduler=scheduler,\n",
    "                                           lr_steps=100)"
   ]
  },
  {
   "cell_type": "code",
   "execution_count": null,
   "id": "b3e7fe1c-1bb5-423e-a9de-754f7d372060",
   "metadata": {},
   "outputs": [],
   "source": [
    "plot_losses(train_loss, test_loss, test_metric)"
   ]
  },
  {
   "cell_type": "code",
   "execution_count": null,
   "id": "6d10ea7a-fd0e-46ec-902c-006e46dd24f3",
   "metadata": {},
   "outputs": [],
   "source": [
    "show_results(unet, test_loader)"
   ]
  }
 ],
 "metadata": {
  "kernelspec": {
   "display_name": "Python 3 (ipykernel)",
   "language": "python",
   "name": "python3"
  }
 },
 "nbformat": 4,
 "nbformat_minor": 5
}
