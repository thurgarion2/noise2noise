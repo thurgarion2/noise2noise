{
 "cells": [
  {
   "cell_type": "code",
   "execution_count": 1,
   "id": "67ab77e7-7485-4cd4-9ff7-4285678ff375",
   "metadata": {},
   "outputs": [],
   "source": [
    "#default_exp training_pytorch"
   ]
  },
  {
   "cell_type": "code",
   "execution_count": null,
   "id": "e3397582-adda-4b1b-b8da-4c69f4aaaf53",
   "metadata": {},
   "outputs": [],
   "source": [
    "#export\n",
    "import torch\n",
    "\n",
    "from torch.utils.data import DataLoader, Dataset\n",
    "from torchvision import transforms\n"
   ]
  },
  {
   "cell_type": "markdown",
   "id": "ad7480ba-a916-43cd-9d23-1a6fb1a9d3b9",
   "metadata": {},
   "source": [
    "# trainin pytorch\n",
    "\n",
    "> training functions"
   ]
  },
  {
   "cell_type": "code",
   "execution_count": null,
   "id": "21231c27-f129-48b8-b23b-d31c63b1aa65",
   "metadata": {},
   "outputs": [],
   "source": [
    "#export\n",
    "def to_float_image(image):\n",
    "    return image.float()/255"
   ]
  },
  {
   "cell_type": "code",
   "execution_count": null,
   "id": "f0fd7a74-98a4-4eb2-b329-116551451278",
   "metadata": {},
   "outputs": [],
   "source": [
    "#export\n",
    "class ToFloatImage:\n",
    "\n",
    "    def __init__(self):\n",
    "       pass\n",
    "\n",
    "    def __call__(self, img):\n",
    "        return to_float_image(img)"
   ]
  }
 ],
 "metadata": {
  "kernelspec": {
   "display_name": "Python 3 (ipykernel)",
   "language": "python",
   "name": "python3"
  },
  "language_info": {
   "codemirror_mode": {
    "name": "ipython",
    "version": 3
   },
   "file_extension": ".py",
   "mimetype": "text/x-python",
   "name": "python",
   "nbconvert_exporter": "python",
   "pygments_lexer": "ipython3",
   "version": "3.10.4"
  }
 },
 "nbformat": 4,
 "nbformat_minor": 5
}
