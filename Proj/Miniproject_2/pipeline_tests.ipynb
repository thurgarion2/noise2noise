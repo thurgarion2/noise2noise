{
 "cells": [
  {
   "cell_type": "code",
   "execution_count": 1,
   "id": "6eff4100",
   "metadata": {},
   "outputs": [],
   "source": [
    "import torch\n",
    "from tqdm import tqdm\n",
    "\n",
    "from model import Model"
   ]
  },
  {
   "cell_type": "code",
   "execution_count": 2,
   "id": "7465aebf",
   "metadata": {},
   "outputs": [],
   "source": [
    "%load_ext autoreload\n",
    "%autoreload 2"
   ]
  },
  {
   "cell_type": "markdown",
   "id": "e8dc3ddc",
   "metadata": {},
   "source": [
    "### 0. Load the data"
   ]
  },
  {
   "cell_type": "code",
   "execution_count": 3,
   "id": "b4af4f84",
   "metadata": {},
   "outputs": [],
   "source": [
    "data_path = \"../data/\""
   ]
  },
  {
   "cell_type": "code",
   "execution_count": 4,
   "id": "c548a2c4",
   "metadata": {},
   "outputs": [],
   "source": [
    "train_path = data_path + \"train_data.pkl\"\n",
    "val_path = data_path + \"val_data.pkl\"\n",
    "train_input, train_target = torch.load(train_path)\n",
    "val_input, val_target = torch.load(val_path)\n",
    "\n",
    "# Rescale the tensor between [0, 1]\n",
    "train_input = train_input.float() / 255.0\n",
    "train_target = train_target.float() / 255.0\n",
    "val_input = val_input.float() / 255.0\n",
    "val_target = val_target.float() / 255.0"
   ]
  },
  {
   "cell_type": "markdown",
   "id": "b9f7fe25",
   "metadata": {},
   "source": [
    "### 1. Build noise2noise model using our framework"
   ]
  },
  {
   "cell_type": "markdown",
   "id": "52478a4a",
   "metadata": {},
   "source": [
    "#### Train model"
   ]
  },
  {
   "cell_type": "code",
   "execution_count": 15,
   "id": "92d19845",
   "metadata": {},
   "outputs": [
    {
     "data": {
      "text/plain": [
       "<torch.autograd.grad_mode.set_grad_enabled at 0x7ff530d300d0>"
      ]
     },
     "execution_count": 15,
     "metadata": {},
     "output_type": "execute_result"
    }
   ],
   "source": [
    "torch.set_grad_enabled(False)"
   ]
  },
  {
   "cell_type": "code",
   "execution_count": 30,
   "id": "8c983879",
   "metadata": {},
   "outputs": [],
   "source": [
    "model = Model()"
   ]
  },
  {
   "cell_type": "code",
   "execution_count": null,
   "id": "a972735d",
   "metadata": {},
   "outputs": [],
   "source": [
    "model.train(train_input, train_target, num_epochs=20, verbose=True)"
   ]
  },
  {
   "cell_type": "markdown",
   "id": "541c897a",
   "metadata": {},
   "source": [
    "### Test model"
   ]
  },
  {
   "cell_type": "code",
   "execution_count": 24,
   "id": "b10a1d21",
   "metadata": {},
   "outputs": [],
   "source": [
    "def compute_psnr(x, y, max_range=1.0):\n",
    "    assert x.shape == y.shape and x.ndim == 4\n",
    "    return (\n",
    "        20 * torch.log10(torch.tensor(max_range)) - \n",
    "        10 * torch.log10(((x-y) ** 2).mean((1,2,3))).mean()\n",
    "    )"
   ]
  },
  {
   "cell_type": "code",
   "execution_count": 25,
   "id": "6765a9b8",
   "metadata": {},
   "outputs": [
    {
     "name": "stderr",
     "output_type": "stream",
     "text": [
      "100%|██████████| 100/100 [00:00<00:00, 162.59it/s]"
     ]
    },
    {
     "name": "stdout",
     "output_type": "stream",
     "text": [
      "[PSNR 2: 12.59 dB]\n"
     ]
    },
    {
     "name": "stderr",
     "output_type": "stream",
     "text": [
      "\n"
     ]
    }
   ],
   "source": [
    "model_outputs = []\n",
    "for b in tqdm(range(0, val_input.size(0), model.batch_size)):\n",
    "    output = model.predict(val_input.narrow(0, b, model.batch_size))\n",
    "    model_outputs.append(output)\n",
    "model_outputs = torch.cat(model_outputs, dim=0) / 255.0\n",
    "\n",
    "output_psnr = compute_psnr(model_outputs, val_target)\n",
    "print(f\"[PSNR {2}: {output_psnr:.2f} dB]\")"
   ]
  },
  {
   "cell_type": "markdown",
   "id": "629a7e8a",
   "metadata": {},
   "source": [
    "### 2. Build noise2noise model using Pytorch"
   ]
  },
  {
   "cell_type": "code",
   "execution_count": null,
   "id": "5c080479",
   "metadata": {},
   "outputs": [],
   "source": [
    "import torch.nn as nn\n",
    "import torch.nn.functional as F\n",
    "import torch.optim as optim"
   ]
  },
  {
   "cell_type": "code",
   "execution_count": null,
   "id": "2d3be380",
   "metadata": {},
   "outputs": [],
   "source": [
    "torch.set_grad_enabled(True)"
   ]
  },
  {
   "cell_type": "code",
   "execution_count": null,
   "id": "6cf31a92",
   "metadata": {},
   "outputs": [],
   "source": []
  },
  {
   "cell_type": "code",
   "execution_count": null,
   "id": "544a6038",
   "metadata": {},
   "outputs": [],
   "source": [
    "class Net(nn.Module):\n",
    "    def __init__(self):\n",
    "        super().__init__()\n",
    "        self.conv1 = nn.Conv2d(3, 10, (3,3), stride=2, padding=1)\n",
    "        self.conv2 = nn.Conv2d(10, 20, (3,3), stride=2, padding=1)\n",
    "        self.upsampling1 = nn.ConvTranspose2d(20, 10, (4,4), stride=2, padding=1)\n",
    "        self.upsampling2 = nn.ConvTranspose2d(10, 3, (4,4), stride=2, padding=1)\n",
    "\n",
    "    def forward(self, x):\n",
    "        x = F.relu(self.conv1(x))\n",
    "        x = F.relu(self.conv2(x))\n",
    "        x = F.relu(self.upsampling1(x))\n",
    "        x = F.sigmoid(self.upsampling2(x))\n",
    "        return x"
   ]
  },
  {
   "cell_type": "code",
   "execution_count": null,
   "id": "32281523",
   "metadata": {},
   "outputs": [],
   "source": [
    "net = Net()"
   ]
  },
  {
   "cell_type": "code",
   "execution_count": null,
   "id": "80abf8f9",
   "metadata": {},
   "outputs": [],
   "source": [
    "optimizer = optim.SGD(net.parameters(), lr=0.01)\n",
    "criterion = nn.MSELoss()"
   ]
  },
  {
   "cell_type": "code",
   "execution_count": null,
   "id": "87a21d37",
   "metadata": {},
   "outputs": [],
   "source": [
    "verbose = True\n",
    "num_epochs=50\n",
    "batch_size=10"
   ]
  },
  {
   "cell_type": "code",
   "execution_count": null,
   "id": "cd220ed5",
   "metadata": {},
   "outputs": [],
   "source": [
    "for e in range(num_epochs):\n",
    "    epoch_loss = 0.0\n",
    "    for inputs, targets in zip(train_input.split(batch_size), train_target.split(batch_size)):\n",
    "        optimizer.zero_grad()\n",
    "        \n",
    "        outputs = net(inputs)\n",
    "        loss = criterion(outputs, targets)\n",
    "        epoch_loss += loss\n",
    "        loss.backward()\n",
    "        optimizer.step()\n",
    "\n",
    "    if verbose:\n",
    "        print(f'Epoch #{e+1}: MSE Loss = {epoch_loss:.6f}')"
   ]
  },
  {
   "cell_type": "code",
   "execution_count": null,
   "id": "55dca6ec",
   "metadata": {},
   "outputs": [],
   "source": []
  }
 ],
 "metadata": {
  "kernelspec": {
   "display_name": "Python 3 (ipykernel)",
   "language": "python",
   "name": "python3"
  },
  "language_info": {
   "codemirror_mode": {
    "name": "ipython",
    "version": 3
   },
   "file_extension": ".py",
   "mimetype": "text/x-python",
   "name": "python",
   "nbconvert_exporter": "python",
   "pygments_lexer": "ipython3",
   "version": "3.10.4"
  }
 },
 "nbformat": 4,
 "nbformat_minor": 5
}
