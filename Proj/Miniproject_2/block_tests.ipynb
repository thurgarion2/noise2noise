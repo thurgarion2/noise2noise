{
 "cells": [
  {
   "cell_type": "code",
   "execution_count": 77,
   "id": "36ad20f2-8b50-44ea-b532-c4c76da87880",
   "metadata": {},
   "outputs": [],
   "source": [
    "import torch\n",
    "from torch import empty , cat , arange\n",
    "from torch.nn.functional import fold , unfold\n",
    "from others.convolution import *\n",
    "from others.activations import *"
   ]
  },
  {
   "cell_type": "code",
   "execution_count": 28,
   "id": "5fc70333-3005-4b40-ba59-b7d23d5273c8",
   "metadata": {},
   "outputs": [
    {
     "name": "stdout",
     "output_type": "stream",
     "text": [
      "The autoreload extension is already loaded. To reload it, use:\n",
      "  %reload_ext autoreload\n"
     ]
    }
   ],
   "source": [
    "%load_ext autoreload\n",
    "%autoreload 2"
   ]
  },
  {
   "cell_type": "code",
   "execution_count": 154,
   "id": "0b5b2aae-7b8e-4c19-841a-5113bd7c2d26",
   "metadata": {},
   "outputs": [],
   "source": [
    "%reload_ext autoreload"
   ]
  },
  {
   "cell_type": "code",
   "execution_count": 88,
   "id": "6d8cb3c9-7dcc-43d8-a491-b4e56073f6d2",
   "metadata": {},
   "outputs": [],
   "source": [
    "def test_block(block, ref_block):\n",
    "    for loop in range(10):\n",
    "        x = torch.randn((1 , 3 , 32 , 32))\n",
    "        torch.testing.assert_allclose( block.forward(x), ref_block(x))\n",
    "    \n",
    "    x = torch.randn((1 , 3 , 32 , 32),requires_grad=True)\n",
    "   \n",
    "    #torch.autograd.gradcheck(nn.ReLU(), x, eps = 1e-6, atol = 1e-4)"
   ]
  },
  {
   "cell_type": "code",
   "execution_count": 50,
   "id": "cb9c2087-3c96-4229-9850-955fc92f7e44",
   "metadata": {},
   "outputs": [],
   "source": [
    "import torch.nn as nn\n",
    "import torch.nn.functional as F"
   ]
  },
  {
   "cell_type": "code",
   "execution_count": null,
   "id": "c07a241e-677d-4fe2-913f-bc28fe4637ba",
   "metadata": {},
   "outputs": [],
   "source": [
    "in_channels = 3\n",
    "out_channels=3\n",
    "kernel_size=(2, 2)\n",
    "stride=1\n",
    "\n",
    "conv = Conv2d(in_channels=in_channels, out_channels=out_channels, kernel_size=kernel_size, stride=stride)\n",
    "conv_ref = lambda x : F.conv2d(x, conv.W, conv.b) \n",
    "test_block(conv, conv_ref)"
   ]
  },
  {
   "cell_type": "code",
   "execution_count": 89,
   "id": "4b634117-dbb9-4891-be25-b1d811d730dd",
   "metadata": {},
   "outputs": [],
   "source": [
    "relu = ReLU()\n",
    "relu_ref = F.relu\n",
    "test_block(relu, relu_ref)"
   ]
  },
  {
   "cell_type": "code",
   "execution_count": 91,
   "id": "88830be7-8968-4955-ab29-066e740da870",
   "metadata": {},
   "outputs": [
    {
     "data": {
      "text/plain": [
       "torch.Size([1, 3, 1024])"
      ]
     },
     "execution_count": 91,
     "metadata": {},
     "output_type": "execute_result"
    }
   ],
   "source": [
    "torch.zeros((1,3,32,32)).view(*[1,3],-1).shape"
   ]
  },
  {
   "cell_type": "code",
   "execution_count": 93,
   "id": "437db485-5620-4201-9de6-ffced8e4a770",
   "metadata": {},
   "outputs": [
    {
     "data": {
      "text/plain": [
       "torch.Size([1, 12, 961])"
      ]
     },
     "execution_count": 93,
     "metadata": {},
     "output_type": "execute_result"
    }
   ],
   "source": [
    "x = torch.zeros((1,3,32,32))\n",
    "unfold(x, kernel_size=2,stride=1).shape"
   ]
  },
  {
   "cell_type": "code",
   "execution_count": 132,
   "id": "a5766493-f0c6-445c-a61d-c5af7ee9f0e6",
   "metadata": {},
   "outputs": [],
   "source": [
    "in_channels = 3\n",
    "out_channels=3\n",
    "kernel_size=(2, 2)\n",
    "stride=1\n",
    "\n",
    "\n",
    "trans_conv = TransposeConv2d(in_channels, out_channels, kernel_size, stride=stride)\n",
    "trans_conv_ref = lambda x : F.conv_transpose2d(x, trans_conv.weight, bias=trans_conv.bias)\n",
    "test_block(trans_conv, trans_conv_ref)"
   ]
  },
  {
   "cell_type": "code",
   "execution_count": null,
   "id": "7899d268-4482-455b-823f-c21d84c24dac",
   "metadata": {},
   "outputs": [],
   "source": []
  }
 ],
 "metadata": {
  "kernelspec": {
   "display_name": "Python 3 (ipykernel)",
   "language": "python",
   "name": "python3"
  },
  "language_info": {
   "codemirror_mode": {
    "name": "ipython",
    "version": 3
   },
   "file_extension": ".py",
   "mimetype": "text/x-python",
   "name": "python",
   "nbconvert_exporter": "python",
   "pygments_lexer": "ipython3",
   "version": "3.10.4"
  }
 },
 "nbformat": 4,
 "nbformat_minor": 5
}
