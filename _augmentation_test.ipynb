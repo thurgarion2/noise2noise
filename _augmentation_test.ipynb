{
 "cells": [
  {
   "cell_type": "code",
   "execution_count": null,
   "id": "a8e975e7-ac51-463e-8b9f-d93e5c3c9f6e",
   "metadata": {},
   "outputs": [],
   "source": []
  },
  {
   "cell_type": "code",
   "execution_count": null,
   "id": "51f7cd30-cdfa-4a37-b5eb-16b4d7614aba",
   "metadata": {},
   "outputs": [],
   "source": [
    "%load_ext autoreload\n",
    "%autoreload 2"
   ]
  },
  {
   "cell_type": "code",
   "execution_count": null,
   "id": "539fa05a-8efb-46a8-a389-e8c4f556baa4",
   "metadata": {},
   "outputs": [],
   "source": [
    "from noise2noise.training import *\n",
    "from noise2noise.unet import *\n",
    "from noise2noise.helpers import *\n",
    "from noise2noise.augmentation import *\n",
    "\n",
    "import torch\n",
    "import torch.nn as nn\n",
    "from torchvision import transforms\n",
    "from torch.utils.data import DataLoader, Dataset\n",
    "from torch.optim import Adam\n",
    "\n",
    "device = torch.device(\"cuda:0\" if torch.cuda.is_available() else \"cpu\")\n",
    "\n",
    "training_img, training_target = load_images()\n",
    "mean, std = to_float_image(training_img).mean(dim=(0,2,3)), to_float_image(training_img).std(dim=(0,2,3))\n",
    "input_transform = transforms.Compose([ToFloatImage(), transforms.Normalize(mean =mean, std = std)])\n",
    "\n",
    "target_transform = transforms.Compose([ToFloatImage()])"
   ]
  },
  {
   "cell_type": "code",
   "execution_count": null,
   "id": "f9ba797d-437b-4d43-808a-7ff4c8756385",
   "metadata": {},
   "outputs": [],
   "source": [
    "train_loader =  DataLoader(\n",
    "    Noise2NoiseDataset('./dataset/train_data.pkl', \n",
    "                       transform=input_transform, \n",
    "                       target_transform=target_transform,\n",
    "                       input_target_transforms = RandomResizedCrop()),\n",
    "    batch_size = 64,\n",
    "    num_workers = 2,\n",
    "    shuffle = True,\n",
    "    pin_memory = torch.cuda.is_available()\n",
    ")\n",
    "\n",
    "test_loader =  DataLoader(\n",
    "    Noise2NoiseDataset('./dataset/val_data.pkl', transform=input_transform, target_transform=target_transform),\n",
    "    batch_size = 64,\n",
    "    num_workers = 2,\n",
    "    shuffle = True,\n",
    "    pin_memory = torch.cuda.is_available()\n",
    ")"
   ]
  },
  {
   "cell_type": "code",
   "execution_count": null,
   "id": "4bd69c1e-bd60-47f1-a6b4-e9b47bd7f214",
   "metadata": {},
   "outputs": [],
   "source": [
    "unet = Unet().to(device)\n",
    "optim = Adam(unet.parameters(), lr=5e-3)\n",
    "scheduler = torch.optim.lr_scheduler.ExponentialLR(optim, 0.99)\n",
    "metric = psnr_metric()\n",
    "criterion = nn.MSELoss()\n",
    "\n",
    "\n",
    "\n",
    "\n",
    "train_loss, test_loss, test_metric = train(unet, \n",
    "                                           train_loader, \n",
    "                                           test_loader, \n",
    "                                           optim, \n",
    "                                           criterion, \n",
    "                                           metric, \n",
    "                                           gradient_steps=2000, \n",
    "                                           samples_steps=100,\n",
    "                                           lr_scheduler=scheduler,\n",
    "                                           lr_steps=200)"
   ]
  },
  {
   "cell_type": "code",
   "execution_count": null,
   "id": "a51c7701-a6df-44d4-83e3-5f6ffbb98974",
   "metadata": {},
   "outputs": [],
   "source": []
  }
 ],
 "metadata": {
  "kernelspec": {
   "display_name": "Python 3 (ipykernel)",
   "language": "python",
   "name": "python3"
  }
 },
 "nbformat": 4,
 "nbformat_minor": 5
}
